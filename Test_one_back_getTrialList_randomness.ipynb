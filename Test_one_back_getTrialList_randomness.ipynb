{
 "cells": [
  {
   "cell_type": "code",
   "execution_count": 109,
   "metadata": {
    "collapsed": false
   },
   "outputs": [],
   "source": [
    "#EXPERIMENTO ONE-BACK REPETTION (Réplica Maurer 2015)\n",
    "\n",
    "\n",
    "from __future__  import division\n",
    "\n",
    "import numpy as ny\n",
    "import os, random\n",
    "import matplotlib.pyplot as plt\n",
    "%matplotlib inline"
   ]
  },
  {
   "cell_type": "code",
   "execution_count": 105,
   "metadata": {
    "collapsed": false
   },
   "outputs": [],
   "source": [
    "\n",
    "a=[tuple(range(i*10,i*10+6)) for i in range(40)]\n"
   ]
  },
  {
   "cell_type": "code",
   "execution_count": 26,
   "metadata": {
    "collapsed": false
   },
   "outputs": [
    {
     "data": {
      "text/plain": [
       "list"
      ]
     },
     "execution_count": 26,
     "metadata": {},
     "output_type": "execute_result"
    }
   ],
   "source": [
    "type(b[0])"
   ]
  },
  {
   "cell_type": "code",
   "execution_count": 142,
   "metadata": {
    "collapsed": false
   },
   "outputs": [],
   "source": [
    "# mirar las posiciones de los repetidos\n",
    "# mirar la id de los repetidos\n",
    "reps=4\n",
    "nVueltas=10000\n",
    "seRepiten=[]\n",
    "posRepiten=[]\n",
    "blockLength=20\n",
    "for i in range(nVueltas):\n",
    "    b=getTrialList(a,reps)\n",
    "    rep=[]\n",
    "    posRep=[]\n",
    "    for nBlock,block in enumerate(b):\n",
    "        for pos,value in enumerate(block):\n",
    "            if value[3]==1:\n",
    "                rep.append(value[0]/10)\n",
    "                posRep.append(pos+blockLength*nBlock) # sigo con el indicador de posición del bloque anterior\n",
    "    seRepiten.append(rep)\n",
    "    posRepiten.append(posRep)\n",
    "            "
   ]
  },
  {
   "cell_type": "code",
   "execution_count": 143,
   "metadata": {
    "collapsed": false
   },
   "outputs": [],
   "source": [
    "todosReps = [num for sublist in seRepiten for num in sublist]\n",
    "todosPos = [num for sublist in posRepiten for num in sublist]"
   ]
  },
  {
   "cell_type": "code",
   "execution_count": 144,
   "metadata": {
    "collapsed": false
   },
   "outputs": [
    {
     "data": {
      "text/plain": [
       "(array([  991.,   987.,   976.,   962.,  1016.,  1022.,  1050.,  1012.,\n",
       "          981.,   966.,  1006.,   998.,   964.,  1017.,   968.,  1053.,\n",
       "          947.,   998.,   946.,   994.,   997.,  1039.,  1005.,   988.,\n",
       "         1022.,  1026.,  1019.,   980.,  1001.,  1021.,  1040.,   993.,\n",
       "          986.,  1024.,  1012.,   990.,  1040.,   988.,  1007.,   968.]),\n",
       " array([ 0,  1,  2,  3,  4,  5,  6,  7,  8,  9, 10, 11, 12, 13, 14, 15, 16,\n",
       "        17, 18, 19, 20, 21, 22, 23, 24, 25, 26, 27, 28, 29, 30, 31, 32, 33,\n",
       "        34, 35, 36, 37, 38, 39, 40]),\n",
       " <a list of 40 Patch objects>)"
      ]
     },
     "execution_count": 144,
     "metadata": {},
     "output_type": "execute_result"
    },
    {
     "data": {
      "image/png": "[encoded data removed]",
      "text/plain": [
       "<matplotlib.figure.Figure at 0x7f753b903250>"
      ]
     },
     "metadata": {},
     "output_type": "display_data"
    }
   ],
   "source": [
    "plt.hist(todosReps,range(41))"
   ]
  },
  {
   "cell_type": "code",
   "execution_count": 145,
   "metadata": {
    "collapsed": false
   },
   "outputs": [
    {
     "data": {
      "text/plain": [
       "(array([    0.,     0.,     0.,     0.,  1452.,  1291.,  1307.,  1353.,\n",
       "         1336.,  1298.,  1350.,  1299.,  1349.,  1319.,  1342.,  1272.,\n",
       "         1288.,  1322.,  1422.,     0.,     0.,     0.,     0.,     0.,\n",
       "         1459.,  1360.,  1296.,  1274.,  1298.,  1320.,  1309.,  1319.,\n",
       "         1323.,  1303.,  1345.,  1338.,  1294.,  1334.,  1428.,     0.,\n",
       "            0.,     0.,     0.,     0.]),\n",
       " array([ 0,  1,  2,  3,  4,  5,  6,  7,  8,  9, 10, 11, 12, 13, 14, 15, 16,\n",
       "        17, 18, 19, 20, 21, 22, 23, 24, 25, 26, 27, 28, 29, 30, 31, 32, 33,\n",
       "        34, 35, 36, 37, 38, 39, 40, 41, 42, 43, 44]),\n",
       " <a list of 44 Patch objects>)"
      ]
     },
     "execution_count": 145,
     "metadata": {},
     "output_type": "execute_result"
    },
    {
     "data": {
      "image/png": "[encoded data removed]",
      "text/plain": [
       "<matplotlib.figure.Figure at 0x7f753c0cdb50>"
      ]
     },
     "metadata": {},
     "output_type": "display_data"
    }
   ],
   "source": [
    "plt.hist(todosPos,range(45))"
   ]
  },
  {
   "cell_type": "code",
   "execution_count": 54,
   "metadata": {
    "collapsed": false
   },
   "outputs": [
    {
     "data": {
      "text/plain": [
       "array([310, 311, 312, 313, 314, 315])"
      ]
     },
     "execution_count": 54,
     "metadata": {},
     "output_type": "execute_result"
    }
   ],
   "source": [
    "trialList[0]"
   ]
  },
  {
   "cell_type": "code",
   "execution_count": 141,
   "metadata": {
    "collapsed": false
   },
   "outputs": [],
   "source": [
    "\n",
    "#            FUNCIÓN PARA CREAR LISTAS CON REPETICIONES ALEATORIAS         \n",
    "\n",
    "\n",
    "# esta función toma de entrada una lista de items (como en \"palabras_provisorio.csv\")  y crea:\n",
    "# A- 1 trial por item\n",
    "# B_ nReps trials extra, repitiendo los items\n",
    "# C_ randomiza orden, dejando margen al principio y al final sin repetidos\n",
    "# D_ los repetidos van juntos :) (ej: cara cara nariz payaso boca mia mia)\n",
    "# E_ Dos bloques \n",
    "\n",
    "def getTrialList(itemList,nReps):\n",
    "    #flankers al principio y al final, que no se van a repetir\n",
    "    flankers=3\n",
    "    # condicion de stop\n",
    "    if nReps+4*flankers+2>len(itemList):\n",
    "        return(None)\n",
    "    #for nItem,item,cond_target,bloque,e,f,g,h,i,j in itemList:\n",
    "    #creo lista permutada\n",
    "    #trialList=list(  ny.random.permutation(itemList)   )\n",
    "    random.shuffle(trialList)\n",
    "    # partir a la mitad itemList\n",
    "    #cuanto es la mitad?\n",
    "    mitaditemList=int(round(len(itemList)/2.0)) #la mitad    \n",
    "   \n",
    "    # partir a la mitad nReps\n",
    "    #cuanto es la mitad?\n",
    "    mitad1nReps=int(round(nReps/2.0)) #la mitad\n",
    "    mitad2nReps=nReps-mitad1nReps # la otra mitad\n",
    "\n",
    "\n",
    "    #vamos a generar dos bloques\n",
    "    block1 = trialList[:mitaditemList]\n",
    "    block2 = trialList[mitaditemList:]\n",
    "           \n",
    "    #vamos a elegir los indices de los repetidos, dejando flankers\n",
    "    permItemList1=ny.random.permutation(range(flankers,len(block1)-flankers))\n",
    "    permItemList2=ny.random.permutation(range(flankers,len(block2)-flankers))\n",
    "    # son los primeros \"12\" de la permutaciòn, en orden de menor amayor\n",
    "    itemsARepetir1=ny.array(sorted(permItemList1[range(mitad1nReps)]))\n",
    "    itemsARepetir2=ny.array(sorted(permItemList2[range(mitad2nReps)]))\n",
    "    #donde van a ir al final, antes de aleatorizar\n",
    "    itemsARepetir1a=itemsARepetir1 +  ny.arange(len(itemsARepetir1))\n",
    "    itemsARepetir2a=itemsARepetir2 +  ny.arange(len(itemsARepetir2))\n",
    "    posAInsertar1=itemsARepetir1a + 1\n",
    "    posAInsertar2=itemsARepetir2a + 1\n",
    "    \n",
    "    \n",
    "    for indice,posicion in enumerate(posAInsertar1):\n",
    "        nuevoTrial = ny.array(block1[itemsARepetir1a[indice]])\n",
    "        nuevoTrial[3] = '1'\n",
    "        # en la posicion posAInsertar, inserto el item numero itemsARepetir[indice] de la lista\n",
    "        block1.insert(posicion,nuevoTrial)\n",
    "    for indice,posicion in enumerate(posAInsertar2):\n",
    "    # en la posicion posAInsertar, inserto el item numero itemsARepetir[indice] de la lista\n",
    "        nuevoTrial = ny.array(block2[itemsARepetir2a[indice]])\n",
    "        nuevoTrial[3] = '1'\n",
    "        block2.insert(posicion,nuevoTrial)\n",
    "    return([block1,block2])\n"
   ]
  }
 ],
 "metadata": {
  "kernelspec": {
   "display_name": "Python [Root]",
   "language": "python",
   "name": "Python [Root]"
  },
  "language_info": {
   "codemirror_mode": {
    "name": "ipython",
    "version": 2
   },
   "file_extension": ".py",
   "mimetype": "text/x-python",
   "name": "python",
   "nbconvert_exporter": "python",
   "pygments_lexer": "ipython2",
   "version": "2.7.12"
  }
 },
 "nbformat": 4,
 "nbformat_minor": 0
}
